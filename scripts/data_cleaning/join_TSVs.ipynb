{
 "cells": [
  {
   "cell_type": "markdown",
   "metadata": {},
   "source": [
    "# Code to Join the Raw Twitter TSV Files\n",
    "\n",
    "The `filter_by_language` notebook takes each day's tweets and, well, filters them by language. This notebook takes all of the days within a month and joins them. If you have another month's data, join that first and rename it to `00_clean.tsv`."
   ]
  },
  {
   "cell_type": "code",
   "execution_count": null,
   "metadata": {},
   "outputs": [],
   "source": [
    "import pandas as pd\n",
    "from Preprocessing import fetch_longtweet"
   ]
  },
  {
   "cell_type": "markdown",
   "metadata": {},
   "source": [
    "Load the data and get a set of the headers."
   ]
  },
  {
   "cell_type": "code",
   "execution_count": null,
   "metadata": {},
   "outputs": [],
   "source": [
    "data = []\n",
    "head = set([])\n",
    "\n",
    "path = \"../../data/archive/2019_03/\"\n",
    "\n",
    "for a in range(0,3):\n",
    "    for b in range(0,10):\n",
    "        day = str(a) + str(b)\n",
    "        #print(day)\n",
    "        try:\n",
    "            df = pd.read_csv(path+day+\"_clean.tsv\", index_col=\"id\", sep=\"\\t\", dtype=str).fillna(\"\")\n",
    "            data.append(df)\n",
    "            head = head.union(set(df.columns))\n",
    "            \n",
    "        except FileNotFoundError:\n",
    "            #print(\"oh, no\")\n",
    "            continue"
   ]
  },
  {
   "cell_type": "markdown",
   "metadata": {},
   "source": [
    "Join the data for all of the days."
   ]
  },
  {
   "cell_type": "code",
   "execution_count": null,
   "metadata": {},
   "outputs": [],
   "source": [
    "df = pd.concat(data, sort=False)\n",
    "print(df.shape)"
   ]
  },
  {
   "cell_type": "markdown",
   "metadata": {},
   "source": [
    "See all of the column headers."
   ]
  },
  {
   "cell_type": "code",
   "execution_count": null,
   "metadata": {},
   "outputs": [],
   "source": [
    "#print(set(df.columns))\n",
    "print(head)\n",
    "hds = set(df.columns)"
   ]
  },
  {
   "cell_type": "markdown",
   "metadata": {},
   "source": [
    "This is just a sanity check to see that no data was excluded."
   ]
  },
  {
   "cell_type": "code",
   "execution_count": null,
   "metadata": {},
   "outputs": [],
   "source": [
    "print(head.symmetric_difference(set(df.columns)))"
   ]
  },
  {
   "cell_type": "markdown",
   "metadata": {},
   "source": [
    "Save to a tsv file. This should be the one used to preprocess the data and any other sort of manipulation that we want to do with it."
   ]
  },
  {
   "cell_type": "code",
   "execution_count": null,
   "metadata": {},
   "outputs": [],
   "source": [
    "df.to_csv(path+\"no_RTs.tsv\",sep=\"\\t\")"
   ]
  },
  {
   "cell_type": "code",
   "execution_count": null,
   "metadata": {},
   "outputs": [],
   "source": [
    "tweets = fetch_longtweet(df)"
   ]
  },
  {
   "cell_type": "code",
   "execution_count": null,
   "metadata": {},
   "outputs": [],
   "source": [
    "tweets.to_csv(path+\"tweets_clean.tsv\",sep=\"\\t\", index=False, header=False)"
   ]
  }
 ],
 "metadata": {
  "kernelspec": {
   "display_name": "Python 3",
   "language": "python",
   "name": "python3"
  },
  "language_info": {
   "codemirror_mode": {
    "name": "ipython",
    "version": 3
   },
   "file_extension": ".py",
   "mimetype": "text/x-python",
   "name": "python",
   "nbconvert_exporter": "python",
   "pygments_lexer": "ipython3",
   "version": "3.7.7"
  }
 },
 "nbformat": 4,
 "nbformat_minor": 4
}
