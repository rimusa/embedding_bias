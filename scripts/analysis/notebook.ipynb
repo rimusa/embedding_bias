{
 "cells": [
  {
   "cell_type": "code",
   "execution_count": 1,
   "metadata": {},
   "outputs": [],
   "source": [
    "import pandas as pd\n",
    "import numpy as np"
   ]
  },
  {
   "cell_type": "code",
   "execution_count": 44,
   "metadata": {},
   "outputs": [],
   "source": [
    "path = \"../../results/\"\n",
    "cnn_path = path + \"cnn/\"\n",
    "weat_path = path + \"xweat/\"\n",
    "#file = \"task1_ft.txt\"\n",
    "#embedding = \"ft_Unmod\"\n",
    "#name = \"Task1\""
   ]
  },
  {
   "cell_type": "code",
   "execution_count": 45,
   "metadata": {},
   "outputs": [],
   "source": [
    "def read_HatEval_results(path, file, name):\n",
    "\n",
    "    data = list(map(\n",
    "                    lambda x: x.strip().lower().split(),\n",
    "                    open(path+file,\"r\", encoding=\"utf8\").readlines()\n",
    "                   ))\n",
    "\n",
    "    results = {}\n",
    "\n",
    "    for item in data:\n",
    "        key = name + \"_\" + item[0][:-1]\n",
    "        results[key] = item[1]\n",
    "    \n",
    "    return results"
   ]
  },
  {
   "cell_type": "code",
   "execution_count": 46,
   "metadata": {},
   "outputs": [],
   "source": [
    "ft_results = {}\n",
    "\n"
   ]
  },
  {
   "cell_type": "code",
   "execution_count": 123,
   "metadata": {},
   "outputs": [],
   "source": [
    "def cnn_results(embed, path, previous_data=None):\n",
    "    if previous_data is None:\n",
    "        exp_results = {}\n",
    "    else:\n",
    "        exp_results = previous_data\n",
    "    for test in [None, 1,2,6,7,8,9]:\n",
    "        if test is not None:\n",
    "            mods = [\"more\", \"less\"]\n",
    "        else:\n",
    "            mods = [\"\"]\n",
    "        for mod in mods:\n",
    "            for task in [\"1\",\"2\"]:\n",
    "                for group in [\"\",\"g1\",\"g2\"]:\n",
    "                    file = \"task\" + task + \"_\" + embed\n",
    "                    if test is not None:\n",
    "                        file += \"_t\" + str(test) + \"_\" + mod\n",
    "                    if group != \"\":\n",
    "                        file += \"_\" + group\n",
    "                    file += \".txt\"\n",
    "                    #print(file)\n",
    "                    if test is None:\n",
    "                        embedding = embed + \"_Unmod\"\n",
    "                    else:\n",
    "                        embedding = embed + \"_Test\" + str(test) + \"_\" + mod\n",
    "                    name = \"Task\" + task\n",
    "                    if group != \"\":\n",
    "                        name += \"_\" + group\n",
    "                    results = read_HatEval_results(path,file,name)\n",
    "                    if embedding not in exp_results.keys():\n",
    "                        exp_results[embedding] = {}\n",
    "                    for key in results:\n",
    "                        exp_results[embedding][key] = results[key]\n",
    "\n",
    "    return exp_results"
   ]
  },
  {
   "cell_type": "code",
   "execution_count": 90,
   "metadata": {},
   "outputs": [],
   "source": [
    "ft_results = cnn_results(\"ft\",cnn_path,)\n",
    "w2v_results = cnn_results(\"w2v\",cnn_path,)\n",
    "\n"
   ]
  },
  {
   "cell_type": "code",
   "execution_count": 91,
   "metadata": {},
   "outputs": [
    {
     "name": "stdout",
     "output_type": "stream",
     "text": [
      "              Task1_precision Task1_recall Task1_f1-score Task1_accuracy  \\\n",
      "ft_Unmod                0.750        0.747          0.748         74.688   \n",
      "ft_Test1_more           0.759        0.749          0.751         74.875   \n",
      "ft_Test1_less           0.749        0.743          0.744         74.250   \n",
      "ft_Test2_more           0.747        0.747          0.747         74.688   \n",
      "ft_Test2_less           0.752        0.746          0.747         74.562   \n",
      "ft_Test6_more           0.729        0.721          0.723         72.125   \n",
      "ft_Test6_less           0.751        0.742          0.744         74.188   \n",
      "ft_Test7_more           0.752        0.746          0.748         74.625   \n",
      "ft_Test7_less           0.751        0.744          0.746         74.438   \n",
      "ft_Test8_more           0.753        0.737          0.739         73.688   \n",
      "ft_Test8_less           0.749        0.733          0.735         73.312   \n",
      "ft_Test9_more           0.750        0.746          0.747         74.562   \n",
      "ft_Test9_less           0.761        0.751          0.753         75.125   \n",
      "\n",
      "              Task2_precision Task2_recall Task2_f1-score Task2_accuracy  \\\n",
      "ft_Unmod                0.654        0.686          0.643         68.636   \n",
      "ft_Test1_more           0.673        0.686          0.632         68.636   \n",
      "ft_Test1_less           0.673        0.694          0.650         69.394   \n",
      "ft_Test2_more           0.660        0.685          0.641         68.485   \n",
      "ft_Test2_less           0.713        0.677          0.632         67.727   \n",
      "ft_Test6_more           0.670        0.683          0.640         68.333   \n",
      "ft_Test6_less           0.702        0.670          0.612         66.970   \n",
      "ft_Test7_more           0.697        0.686          0.631         68.636   \n",
      "ft_Test7_less           0.675        0.689          0.657         68.939   \n",
      "ft_Test8_more           0.672        0.691          0.656         69.091   \n",
      "ft_Test8_less           0.691        0.670          0.618         66.970   \n",
      "ft_Test9_more           0.720        0.685          0.638         68.485   \n",
      "ft_Test9_less           0.664        0.689          0.651         68.939   \n",
      "\n",
      "              Task1_g1_precision Task1_g1_recall  ... Task2_g1_f1-score  \\\n",
      "ft_Unmod                   0.661           0.645  ...             0.407   \n",
      "ft_Test1_more              0.675           0.639  ...             0.388   \n",
      "ft_Test1_less              0.666           0.637  ...             0.423   \n",
      "ft_Test2_more              0.661           0.649  ...             0.405   \n",
      "ft_Test2_less              0.657           0.630  ...             0.387   \n",
      "ft_Test6_more              0.628           0.598  ...             0.404   \n",
      "ft_Test6_less              0.664           0.630  ...             0.345   \n",
      "ft_Test7_more              0.658           0.631  ...             0.378   \n",
      "ft_Test7_less              0.662           0.636  ...             0.444   \n",
      "ft_Test8_more              0.668           0.624  ...             0.433   \n",
      "ft_Test8_less              0.672           0.619  ...             0.352   \n",
      "ft_Test9_more              0.662           0.640  ...             0.395   \n",
      "ft_Test9_less              0.680           0.645  ...             0.421   \n",
      "\n",
      "              Task2_g1_accuracy Task1_g2_precision Task1_g2_recall  \\\n",
      "ft_Unmod                 46.364              0.661           0.645   \n",
      "ft_Test1_more            46.667              0.675           0.639   \n",
      "ft_Test1_less            48.182              0.666           0.637   \n",
      "ft_Test2_more            46.364              0.661           0.649   \n",
      "ft_Test2_less            45.455              0.657           0.630   \n",
      "ft_Test6_more            46.667              0.628           0.598   \n",
      "ft_Test6_less            43.636              0.664           0.630   \n",
      "ft_Test7_more            46.061              0.658           0.631   \n",
      "ft_Test7_less            48.182              0.662           0.636   \n",
      "ft_Test8_more            47.879              0.668           0.624   \n",
      "ft_Test8_less            43.333              0.672           0.619   \n",
      "ft_Test9_more            46.364              0.662           0.640   \n",
      "ft_Test9_less            46.970              0.680           0.645   \n",
      "\n",
      "              Task1_g2_f1-score Task1_g2_accuracy Task2_g2_precision  \\\n",
      "ft_Unmod                  0.648            64.500              0.459   \n",
      "ft_Test1_more             0.641            63.875              0.494   \n",
      "ft_Test1_less             0.640            63.750              0.500   \n",
      "ft_Test2_more             0.652            64.875              0.470   \n",
      "ft_Test2_less             0.633            63.000              0.551   \n",
      "ft_Test6_more             0.600            59.750              0.482   \n",
      "ft_Test6_less             0.632            63.000              0.542   \n",
      "ft_Test7_more             0.634            63.125              0.530   \n",
      "ft_Test7_less             0.639            63.625              0.498   \n",
      "ft_Test8_more             0.624            62.375              0.494   \n",
      "ft_Test8_less             0.617            61.875              0.503   \n",
      "ft_Test9_more             0.643            64.000              0.558   \n",
      "ft_Test9_less             0.647            64.500              0.471   \n",
      "\n",
      "              Task2_g2_recall Task2_g2_f1-score Task2_g2_accuracy  \n",
      "ft_Unmod                0.464             0.407            46.364  \n",
      "ft_Test1_more           0.467             0.388            46.667  \n",
      "ft_Test1_less           0.482             0.423            48.182  \n",
      "ft_Test2_more           0.464             0.405            46.364  \n",
      "ft_Test2_less           0.455             0.387            45.455  \n",
      "ft_Test6_more           0.467             0.404            46.667  \n",
      "ft_Test6_less           0.436             0.345            43.636  \n",
      "ft_Test7_more           0.461             0.378            46.061  \n",
      "ft_Test7_less           0.482             0.444            48.182  \n",
      "ft_Test8_more           0.479             0.433            47.879  \n",
      "ft_Test8_less           0.433             0.352            43.333  \n",
      "ft_Test9_more           0.464             0.395            46.364  \n",
      "ft_Test9_less           0.470             0.421            46.970  \n",
      "\n",
      "[13 rows x 24 columns]\n"
     ]
    }
   ],
   "source": [
    "ft_df = pd.DataFrame(ft_results).transpose()\n",
    "print(ft_df)"
   ]
  },
  {
   "cell_type": "code",
   "execution_count": 65,
   "metadata": {},
   "outputs": [],
   "source": [
    "file = \"ft_test1_cased.res\"\n",
    " "
   ]
  },
  {
   "cell_type": "code",
   "execution_count": 104,
   "metadata": {},
   "outputs": [],
   "source": [
    "def read_weat_results(path, file, name):\n",
    "\n",
    "    data = list(map(\n",
    "                        lambda x: x.strip().lower().split(),\n",
    "                        open(path+file,\"r\", encoding=\"utf8\").readlines()\n",
    "                       ))\n",
    "    \n",
    "    results = {\n",
    "               name+\"_WeatStatistic\": float(data[1][1][1:-1]),\n",
    "               name+\"_EffectSize\":    float(data[1][2][:-1]),\n",
    "               name+\"_pValue\":        float(data[1][3][:-1]),\n",
    "              }\n",
    "    \n",
    "    return results"
   ]
  },
  {
   "cell_type": "code",
   "execution_count": 82,
   "metadata": {},
   "outputs": [
    {
     "name": "stdout",
     "output_type": "stream",
     "text": [
      "[['config:', '1', 'and', 'true', 'and', '1000000'], ['result:', '(0.69057745,', '1.3373784,', '0.000241)'], ['0.2610821216636234']]\n"
     ]
    }
   ],
   "source": [
    "print(data)"
   ]
  },
  {
   "cell_type": "code",
   "execution_count": 87,
   "metadata": {},
   "outputs": [
    {
     "name": "stdout",
     "output_type": "stream",
     "text": [
      "{'Test1_WeatStatistic': 0.69057745, 'Test1_EffectSize': 1.3373784, 'Test1_pValue': 0.000241}\n"
     ]
    }
   ],
   "source": [
    "read_weat_results(weat_path, file, \"Test1\")"
   ]
  },
  {
   "cell_type": "code",
   "execution_count": 105,
   "metadata": {},
   "outputs": [],
   "source": [
    "def weat_results(embed, path, previous_data=None):\n",
    "    \n",
    "    if previous_data is None:\n",
    "        exp_results = {}\n",
    "    else:\n",
    "        exp_results = previous_data\n",
    "        \n",
    "    for test_mod in [None, 1,2,6,7,8,9]:\n",
    "        if test_mod is not None:\n",
    "            mods = [\"more\", \"less\"]\n",
    "        else:\n",
    "            mods = [\"\"]\n",
    "        for mod in mods:\n",
    "            for curr_test in [1,2,6,7,8,9]:\n",
    "                \n",
    "                file = embed\n",
    "                if test_mod is not None:\n",
    "                    file += \"_t\" + str(test_mod) + \"_\" + mod\n",
    "                file += \"_test\" + str(curr_test) + \"_cased.res\"\n",
    "                \n",
    "                if test_mod is None:\n",
    "                    embedding = embed + \"_Unmod\"\n",
    "                else:\n",
    "                    embedding = embed + \"_Test\" + str(test_mod) + \"_\" + mod\n",
    "                \n",
    "                name = \"Test\" + str(curr_test)\n",
    "                \n",
    "                results = read_weat_results(path,file,name)\n",
    "                if embedding not in exp_results.keys():\n",
    "                    exp_results[embedding] = {}\n",
    "                for key in results:\n",
    "                    exp_results[embedding][key] = results[key]\n",
    "\n",
    "    return exp_results\n",
    "              "
   ]
  },
  {
   "cell_type": "code",
   "execution_count": 106,
   "metadata": {},
   "outputs": [],
   "source": [
    "ft_results = weat_results(\"ft\",weat_path,)\n",
    "w2v_results = weat_results(\"w2v\",weat_path,)\n"
   ]
  },
  {
   "cell_type": "code",
   "execution_count": 107,
   "metadata": {},
   "outputs": [
    {
     "name": "stdout",
     "output_type": "stream",
     "text": [
      "               Test1_WeatStatistic  Test1_EffectSize  Test1_pValue  \\\n",
      "ft_Unmod                  0.690577          1.337378      0.000241   \n",
      "ft_Test1_more            14.904505          1.998288      0.000000   \n",
      "ft_Test1_less           -12.191896         -1.997852      0.999999   \n",
      "ft_Test2_more             2.050634          1.545397      0.000023   \n",
      "ft_Test2_less             0.652992          0.747101      0.035855   \n",
      "ft_Test6_more             0.756933          1.421208      0.000105   \n",
      "ft_Test6_less             0.676761          1.337227      0.000277   \n",
      "ft_Test7_more             0.834897          1.571694      0.000009   \n",
      "ft_Test7_less             0.692958          1.337800      0.000260   \n",
      "ft_Test8_more             0.710567          1.348733      0.000238   \n",
      "ft_Test8_less             0.672895          1.334493      0.000267   \n",
      "ft_Test9_more             0.702686          1.368323      0.000196   \n",
      "ft_Test9_less             0.723924          1.377032      0.000168   \n",
      "\n",
      "               Test2_WeatStatistic  Test2_EffectSize  Test2_pValue  \\\n",
      "ft_Unmod                  0.078857          0.181475      0.343838   \n",
      "ft_Test1_more             0.774885          0.652208      0.069012   \n",
      "ft_Test1_less            -0.196428         -0.187844      0.655143   \n",
      "ft_Test2_more            12.591561          1.994324      0.000000   \n",
      "ft_Test2_less           -11.469503         -1.997345      0.999999   \n",
      "ft_Test6_more             0.214556          0.482943      0.139405   \n",
      "ft_Test6_less             0.054818          0.121019      0.394289   \n",
      "ft_Test7_more             0.185622          0.412835      0.177537   \n",
      "ft_Test7_less             0.145446          0.346840      0.220744   \n",
      "ft_Test8_more             0.238381          0.575236      0.097817   \n",
      "ft_Test8_less             0.177392          0.406655      0.182222   \n",
      "ft_Test9_more             0.252184          0.580008      0.095217   \n",
      "ft_Test9_less             0.075891          0.163788      0.357823   \n",
      "\n",
      "               Test6_WeatStatistic  Test6_EffectSize  Test6_pValue  \\\n",
      "ft_Unmod                  0.275758          1.030127      0.030886   \n",
      "ft_Test1_more             0.358993          1.199052      0.014569   \n",
      "ft_Test1_less             0.317657          1.118492      0.021562   \n",
      "ft_Test2_more             0.315770          1.091672      0.023019   \n",
      "ft_Test2_less             0.327325          1.170163      0.014860   \n",
      "ft_Test6_more             0.353504          1.140820      0.016608   \n",
      "ft_Test6_less             0.265459          1.018308      0.032925   \n",
      "ft_Test7_more             0.295340          1.006063      0.034091   \n",
      "ft_Test7_less             0.334290          1.115654      0.021270   \n",
      "ft_Test8_more             0.328844          1.176505      0.015443   \n",
      "ft_Test8_less             0.390858          1.238913      0.011655   \n",
      "ft_Test9_more             0.324760          1.122890      0.017191   \n",
      "ft_Test9_less             0.324760          1.122890      0.017191   \n",
      "\n",
      "               Test7_WeatStatistic  Test7_EffectSize  Test7_pValue  \\\n",
      "ft_Unmod                  0.227651          0.817975      0.091991   \n",
      "ft_Test1_more             0.234860          0.840256      0.083333   \n",
      "ft_Test1_less             0.236158          0.882156      0.074675   \n",
      "ft_Test2_more             0.236158          0.882156      0.074675   \n",
      "ft_Test2_less             0.121831          0.476683      0.227273   \n",
      "ft_Test6_more             0.137750          0.525502      0.204545   \n",
      "ft_Test6_less             0.189613          0.725366      0.125541   \n",
      "ft_Test7_more             1.966411          1.955596      0.000000   \n",
      "ft_Test7_less            -1.762608         -1.944137      0.998918   \n",
      "ft_Test8_more             0.536544          1.448697      0.004329   \n",
      "ft_Test8_less            -0.235704         -0.950734      0.942641   \n",
      "ft_Test9_more             0.245478          0.908872      0.068182   \n",
      "ft_Test9_less             0.171822          0.616310      0.159091   \n",
      "\n",
      "               Test8_WeatStatistic  Test8_EffectSize  Test8_pValue  \\\n",
      "ft_Unmod                 -0.017693         -0.057625      0.542347   \n",
      "ft_Test1_more            -0.017694         -0.057627      0.542347   \n",
      "ft_Test1_less            -0.017694         -0.057627      0.542347   \n",
      "ft_Test2_more            -0.017693         -0.057626      0.542347   \n",
      "ft_Test2_less            -0.017694         -0.057626      0.542347   \n",
      "ft_Test6_more            -0.017694         -0.057626      0.542347   \n",
      "ft_Test6_less            -0.017694         -0.057627      0.542347   \n",
      "ft_Test7_more             0.555275          1.259745      0.003730   \n",
      "ft_Test7_less            -0.668461         -1.555682      0.999145   \n",
      "ft_Test8_more             1.444474          1.828878      0.000000   \n",
      "ft_Test8_less            -1.409577         -1.760586      0.999845   \n",
      "ft_Test9_more            -0.017694         -0.057627      0.542347   \n",
      "ft_Test9_less            -0.017694         -0.057626      0.542347   \n",
      "\n",
      "               Test9_WeatStatistic  Test9_EffectSize  Test9_pValue  \n",
      "ft_Unmod                  0.367702          1.414065      0.005411  \n",
      "ft_Test1_more             0.263500          1.595589      0.002165  \n",
      "ft_Test1_less            -0.070202         -0.464859      0.773810  \n",
      "ft_Test2_more             0.486992          1.617420      0.001082  \n",
      "ft_Test2_less             0.298883          1.457686      0.004329  \n",
      "ft_Test6_more             0.171485          1.166807      0.023810  \n",
      "ft_Test6_less             0.115069          0.675416      0.137446  \n",
      "ft_Test7_more             0.296719          1.212149      0.019481  \n",
      "ft_Test7_less             0.296716          1.353244      0.009740  \n",
      "ft_Test8_more             0.296719          1.212149      0.019481  \n",
      "ft_Test8_less             0.252805          1.284431      0.014069  \n",
      "ft_Test9_more             2.899937          1.983016      0.000000  \n",
      "ft_Test9_less            -2.660390         -1.928492      0.998918  \n"
     ]
    }
   ],
   "source": [
    "ft_df = pd.DataFrame(ft_results).transpose()\n",
    "print(ft_df)"
   ]
  },
  {
   "cell_type": "code",
   "execution_count": 97,
   "metadata": {},
   "outputs": [
    {
     "name": "stdout",
     "output_type": "stream",
     "text": [
      "None\n"
     ]
    }
   ],
   "source": [
    "print(ft_results)"
   ]
  },
  {
   "cell_type": "code",
   "execution_count": 140,
   "metadata": {},
   "outputs": [],
   "source": [
    "ft_results = weat_results(\"ft\",weat_path,None)\n",
    "w2v_results = weat_results(\"w2v\",weat_path,None)\n",
    "\n",
    "ft_results = cnn_results(\"ft\",cnn_path,ft_results)\n",
    "w2v_results = cnn_results(\"w2v\",cnn_path,w2v_results)\n",
    "\n",
    "ft_results = pd.DataFrame(ft_results, dtype=float).transpose()\n",
    "w2v_results = pd.DataFrame(w2v_results, dtype=float).transpose()"
   ]
  },
  {
   "cell_type": "code",
   "execution_count": 148,
   "metadata": {},
   "outputs": [],
   "source": [
    "for embed in [\"ft\", \"w2v\"]:\n",
    "    results_path = path+\"csv/\"+embed+\"_\"\n",
    "    results = weat_results(embed,weat_path,None)\n",
    "    results = cnn_results(embed,cnn_path,results)\n",
    "    df = pd.DataFrame(results, dtype=float).transpose()\n",
    "    df.to_csv(results_path+\"results.csv\")\n",
    "    cols = [col for col in df.columns if ((\"Size\" in col) or (\"f1\" in col))]\n",
    "    concise = df[cols]\n",
    "    concise.to_csv(results_path+\"concise.csv\")\n",
    "    corr = concise.corr()\n",
    "    corr.to_csv(results_path+\"correlations.csv\")\n",
    "    \n",
    "\n",
    "#ft_results.to_csv(path + \"csv/\" + \"ft\")"
   ]
  },
  {
   "cell_type": "code",
   "execution_count": 142,
   "metadata": {},
   "outputs": [
    {
     "name": "stdout",
     "output_type": "stream",
     "text": [
      "Index(['Test1_WeatStatistic', 'Test1_EffectSize', 'Test1_pValue',\n",
      "       'Test2_WeatStatistic', 'Test2_EffectSize', 'Test2_pValue',\n",
      "       'Test6_WeatStatistic', 'Test6_EffectSize', 'Test6_pValue',\n",
      "       'Test7_WeatStatistic', 'Test7_EffectSize', 'Test7_pValue',\n",
      "       'Test8_WeatStatistic', 'Test8_EffectSize', 'Test8_pValue',\n",
      "       'Test9_WeatStatistic', 'Test9_EffectSize', 'Test9_pValue',\n",
      "       'Task1_precision', 'Task1_recall', 'Task1_f1-score', 'Task1_accuracy',\n",
      "       'Task1_g1_precision', 'Task1_g1_recall', 'Task1_g1_f1-score',\n",
      "       'Task1_g1_accuracy', 'Task1_g2_precision', 'Task1_g2_recall',\n",
      "       'Task1_g2_f1-score', 'Task1_g2_accuracy', 'Task2_precision',\n",
      "       'Task2_recall', 'Task2_f1-score', 'Task2_accuracy',\n",
      "       'Task2_g1_precision', 'Task2_g1_recall', 'Task2_g1_f1-score',\n",
      "       'Task2_g1_accuracy', 'Task2_g2_precision', 'Task2_g2_recall',\n",
      "       'Task2_g2_f1-score', 'Task2_g2_accuracy'],\n",
      "      dtype='object')\n"
     ]
    }
   ],
   "source": [
    "print(ft_results.columns)"
   ]
  },
  {
   "cell_type": "code",
   "execution_count": 143,
   "metadata": {},
   "outputs": [],
   "source": [
    "cols = [col for col in ft_results.columns if ((\"Size\" in col) or (\"f1\" in col))]"
   ]
  },
  {
   "cell_type": "code",
   "execution_count": 144,
   "metadata": {},
   "outputs": [
    {
     "name": "stdout",
     "output_type": "stream",
     "text": [
      "12\n"
     ]
    }
   ],
   "source": [
    "print(len(cols))"
   ]
  },
  {
   "cell_type": "code",
   "execution_count": 145,
   "metadata": {},
   "outputs": [],
   "source": [
    "ft_concise = ft_results[cols]"
   ]
  },
  {
   "cell_type": "code",
   "execution_count": 146,
   "metadata": {},
   "outputs": [],
   "source": [
    "ft_corr = ft_concise.corr()"
   ]
  },
  {
   "cell_type": "code",
   "execution_count": 147,
   "metadata": {},
   "outputs": [
    {
     "name": "stdout",
     "output_type": "stream",
     "text": [
      "                   Test1_EffectSize  Test2_EffectSize  Test6_EffectSize  \\\n",
      "Test1_EffectSize           1.000000          0.356748         -0.005348   \n",
      "Test2_EffectSize           0.356748          1.000000         -0.120395   \n",
      "Test6_EffectSize          -0.005348         -0.120395          1.000000   \n",
      "Test7_EffectSize          -0.037985          0.080985         -0.370788   \n",
      "Test8_EffectSize           0.030609          0.043449         -0.305777   \n",
      "Test9_EffectSize           0.408514          0.162970          0.077413   \n",
      "Task1_f1-score             0.033386         -0.072379         -0.297270   \n",
      "Task1_g1_f1-score         -0.069138          0.146143         -0.361703   \n",
      "Task1_g2_f1-score         -0.069138          0.146143         -0.361703   \n",
      "Task2_f1-score            -0.244326          0.118374          0.065863   \n",
      "Task2_g1_f1-score         -0.243112          0.105780          0.072540   \n",
      "Task2_g2_f1-score         -0.243112          0.105780          0.072540   \n",
      "\n",
      "                   Test7_EffectSize  Test8_EffectSize  Test9_EffectSize  \\\n",
      "Test1_EffectSize          -0.037985          0.030609          0.408514   \n",
      "Test2_EffectSize           0.080985          0.043449          0.162970   \n",
      "Test6_EffectSize          -0.370788         -0.305777          0.077413   \n",
      "Test7_EffectSize           1.000000          0.886426         -0.060164   \n",
      "Test8_EffectSize           0.886426          1.000000         -0.028411   \n",
      "Test9_EffectSize          -0.060164         -0.028411          1.000000   \n",
      "Task1_f1-score             0.168157          0.092929         -0.201449   \n",
      "Task1_g1_f1-score          0.132614          0.016299         -0.152714   \n",
      "Task1_g2_f1-score          0.132614          0.016299         -0.152714   \n",
      "Task2_f1-score            -0.060300          0.198827         -0.266145   \n",
      "Task2_g1_f1-score         -0.116441          0.150404         -0.231502   \n",
      "Task2_g2_f1-score         -0.116441          0.150404         -0.231502   \n",
      "\n",
      "                   Task1_f1-score  Task1_g1_f1-score  Task1_g2_f1-score  \\\n",
      "Test1_EffectSize         0.033386          -0.069138          -0.069138   \n",
      "Test2_EffectSize        -0.072379           0.146143           0.146143   \n",
      "Test6_EffectSize        -0.297270          -0.361703          -0.361703   \n",
      "Test7_EffectSize         0.168157           0.132614           0.132614   \n",
      "Test8_EffectSize         0.092929           0.016299           0.016299   \n",
      "Test9_EffectSize        -0.201449          -0.152714          -0.152714   \n",
      "Task1_f1-score           1.000000           0.915938           0.915938   \n",
      "Task1_g1_f1-score        0.915938           1.000000           1.000000   \n",
      "Task1_g2_f1-score        0.915938           1.000000           1.000000   \n",
      "Task2_f1-score           0.112116           0.242439           0.242439   \n",
      "Task2_g1_f1-score        0.100769           0.235938           0.235938   \n",
      "Task2_g2_f1-score        0.100769           0.235938           0.235938   \n",
      "\n",
      "                   Task2_f1-score  Task2_g1_f1-score  Task2_g2_f1-score  \n",
      "Test1_EffectSize        -0.244326          -0.243112          -0.243112  \n",
      "Test2_EffectSize         0.118374           0.105780           0.105780  \n",
      "Test6_EffectSize         0.065863           0.072540           0.072540  \n",
      "Test7_EffectSize        -0.060300          -0.116441          -0.116441  \n",
      "Test8_EffectSize         0.198827           0.150404           0.150404  \n",
      "Test9_EffectSize        -0.266145          -0.231502          -0.231502  \n",
      "Task1_f1-score           0.112116           0.100769           0.100769  \n",
      "Task1_g1_f1-score        0.242439           0.235938           0.235938  \n",
      "Task1_g2_f1-score        0.242439           0.235938           0.235938  \n",
      "Task2_f1-score           1.000000           0.993639           0.993639  \n",
      "Task2_g1_f1-score        0.993639           1.000000           1.000000  \n",
      "Task2_g2_f1-score        0.993639           1.000000           1.000000  \n"
     ]
    }
   ],
   "source": [
    "print(ft_corr)"
   ]
  },
  {
   "cell_type": "code",
   "execution_count": null,
   "metadata": {},
   "outputs": [],
   "source": []
  }
 ],
 "metadata": {
  "kernelspec": {
   "display_name": "Python 3",
   "language": "python",
   "name": "python3"
  },
  "language_info": {
   "codemirror_mode": {
    "name": "ipython",
    "version": 3
   },
   "file_extension": ".py",
   "mimetype": "text/x-python",
   "name": "python",
   "nbconvert_exporter": "python",
   "pygments_lexer": "ipython3",
   "version": "3.7.7"
  }
 },
 "nbformat": 4,
 "nbformat_minor": 4
}
